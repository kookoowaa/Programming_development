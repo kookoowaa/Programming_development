{
 "cells": [
  {
   "cell_type": "markdown",
   "metadata": {},
   "source": [
    "# 간단한 그림 그리기 프로그램\n",
    "___"
   ]
  },
  {
   "cell_type": "markdown",
   "metadata": {},
   "source": [
    ">- \"tkinter\" 라이브러리를 사용하여 그림 그리기 프로그램 구현 (Lightweight GUI)\n",
    ">- 구현 가능한 기능은 다양하나, 여기에서는 키보드 커맨드에 따라 선 긋는 정도의 프로그램만 구현\n",
    ">- _간단 예제(tkinter 사용하여 윈도우 창 호출)_"
   ]
  },
  {
   "cell_type": "code",
   "execution_count": 1,
   "metadata": {},
   "outputs": [],
   "source": [
    "from tkinter import *\n",
    "\n",
    "canvas_height = 400\n",
    "canvas_width = 600\n",
    "canvas_colour = 'black'\n",
    "\n",
    "window = Tk()\n",
    "window.title('예제')\n",
    "canvas = Canvas(bg = canvas_colour, height = canvas_height, width = canvas_width, highlightthickness = 0)\n",
    "canvas.pack()\n",
    "\n",
    "window.mainloop()"
   ]
  },
  {
   "cell_type": "markdown",
   "metadata": {},
   "source": [
    "## 1. 프로그램 로직\n",
    "___\n",
    "\n",
    "#### 정의\n",
    "- 캔버스 정의 (사이즈 및 색상)\n",
    "- 좌표 정보 정의 (초기 좌표)\n",
    "- 선 정보 정의 (굵기 및 색상)\n",
    "- 초기 위치 정의 (median, max)\n",
    "\n",
    "#### 로직\n",
    "- 좌표 지정\n",
    "- 초기 좌표에서 목표 좌표까지 방향 설정\n",
    "- GUI 내 표현\n",
    "- 좌표 지정은 1) 직접 값 입력, 2) 컨트롤 입력 두가지 방법으로 구현 가능\n",
    "\n",
    "#### 로직에 따른 사용자함수 생성"
   ]
  },
  {
   "cell_type": "markdown",
   "metadata": {},
   "source": [
    "## 2. 정의\n",
    "___\n",
    "- 프로그래밍에서 사용할 변수들을 사전에 별도로 정의\n",
    "- 사후 편하게 프로그램 관리 및 업데이트 가능 (변수값 변경)"
   ]
  },
  {
   "cell_type": "code",
   "execution_count": 127,
   "metadata": {},
   "outputs": [],
   "source": [
    "#### 캔버스 크기와 배경색 정의\n",
    "canvas_height = 400\n",
    "canvas_width = 600\n",
    "canvas_colour = 'black'\n",
    "\n",
    "#### 초기 좌표 정의\n",
    "p1_x = canvas_width/2\n",
    "p1_y = canvas_height\n",
    "\n",
    "#### 굵기 및 색상\n",
    "ln_colour = 'green'\n",
    "ln_width = 5"
   ]
  },
  {
   "cell_type": "markdown",
   "metadata": {},
   "source": [
    "## 3-1. 로직 구현 (지정 함수 사용)\n",
    "___\n",
    "- 사용자 함수를 지정하여 원하는 대로 선그리기 수행\n",
    "- 아래 예제에서는 뱀 꽈리 모양으로 선그리는 함수 생성"
   ]
  },
  {
   "cell_type": "code",
   "execution_count": 128,
   "metadata": {},
   "outputs": [],
   "source": [
    "#### 함수\n",
    "def snake_sq(n=1):    # n = 1, 4번 도는 것을 defalut로 원하는 만큼 회전하도록 함수 생성\n",
    "    \n",
    "    \n",
    "    #### 함수 초기 변수 설정\n",
    "    #global p1_x, p1_y    # 전역 변수 호출해도 되지만 가능한 전역 변수는 건드리지 말자\n",
    "    snake_x, snake_y = p1_x, p1_y\n",
    "    loop = [[-1,-1],[1,-1],[1,1],[-1,1]]*n    # 선그리기 방향 설정, n 값에 따라 회전 수 설정\n",
    "    ln_len = np.array((canvas_width/4, canvas_height/2))    # 캔버스 크기에 따라 선 길이 설정\n",
    "    \n",
    "    \n",
    "    for i in loop:    # 선그리기 방향에 따라 iter문 반복\n",
    "        canvas.create_line(snake_x, snake_y,    # x, y 초기값\n",
    "                           (snake_x + (i[0]*ln_len[0])), (snake_y + (i[1]*ln_len[1])),    # x, y 변경 값\n",
    "                           width = ln_width, fill = ln_colour)    # 기타 변수\n",
    "        \n",
    "        snake_x = snake_x + (i[0]*ln_len[0])    # x 변경 값 세팅\n",
    "        snake_y = snake_y + (i[1]*ln_len[1])    # y 변경 값 세팅\n",
    "        ln_len = ln_len/2    # 선길이 축소"
   ]
  },
  {
   "cell_type": "code",
   "execution_count": 129,
   "metadata": {},
   "outputs": [],
   "source": [
    "window = Tk()\n",
    "window.title('test2')\n",
    "canvas = Canvas(bg = canvas_colour, height = canvas_height, width = canvas_width, highlightthickness = 0)\n",
    "canvas.pack()\n",
    "snake_sq()    # 위에서 만든 함수 실행\n",
    "\n",
    "window.mainloop()"
   ]
  },
  {
   "cell_type": "markdown",
   "metadata": {},
   "source": [
    "## 3-2. 로직 구현 (컨트롤 입력 사용)\n",
    "___\n",
    "- 사용자 함수로 특정 input 값에 따라 사전에 정의 된 만큼 x, y 좌표 이동하도록 함수 세팅"
   ]
  },
  {
   "cell_type": "code",
   "execution_count": null,
   "metadata": {},
   "outputs": [],
   "source": []
  },
  {
   "cell_type": "code",
   "execution_count": null,
   "metadata": {},
   "outputs": [],
   "source": []
  },
  {
   "cell_type": "code",
   "execution_count": null,
   "metadata": {},
   "outputs": [],
   "source": []
  },
  {
   "cell_type": "code",
   "execution_count": null,
   "metadata": {},
   "outputs": [],
   "source": []
  },
  {
   "cell_type": "code",
   "execution_count": 72,
   "metadata": {},
   "outputs": [
    {
     "name": "stdout",
     "output_type": "stream",
     "text": [
      "150.0 200.0 0.5 0.5\n",
      "225.0 100.0 1.5 0.5\n",
      "337.5 150.0 1.5 1.5\n",
      "168.75 225.0 0.5 1.5\n"
     ]
    }
   ],
   "source": [
    "loop = [[0,0],[1,0],[1,1],[0,1]]\n",
    "for i in loop:\n",
    "    print((p1_x*(i[0]+0.5)), (p1_y*(i[1]+0.5)), i[0]+0.5, i[1]+0.5)\n",
    "    \n",
    "    p1_x = p1_x*(i[0]+0.5)\n",
    "    p1_y = p1_y*(i[1]+0.5)"
   ]
  },
  {
   "cell_type": "code",
   "execution_count": 3,
   "metadata": {},
   "outputs": [],
   "source": [
    "p1_x = canvas_width/2\n",
    "p1_y = canvas_height\n",
    "p1_colour = 'green'\n",
    "line_width = 5\n",
    "line_length = 5"
   ]
  },
  {
   "cell_type": "code",
   "execution_count": 4,
   "metadata": {},
   "outputs": [],
   "source": [
    "def p1_move_n(event):\n",
    "    global p1_y\n",
    "    \n",
    "    canvas.create_line(p1_x, p1_y, p1_x, (p1_y - line_length), \n",
    "                       width = line_width, fill = p1_colour)\n",
    "    p1_y = p1_y - line_length"
   ]
  },
  {
   "cell_type": "code",
   "execution_count": 5,
   "metadata": {},
   "outputs": [],
   "source": [
    "window = Tk()\n",
    "window.title('test2')\n",
    "canvas = Canvas(bg = canvas_colour, height = canvas_height,\n",
    "               width = canvas_width, highlightthickness = 0)\n",
    "canvas.pack()"
   ]
  },
  {
   "cell_type": "code",
   "execution_count": 6,
   "metadata": {},
   "outputs": [],
   "source": [
    "window.mainloop()"
   ]
  },
  {
   "cell_type": "code",
   "execution_count": null,
   "metadata": {},
   "outputs": [],
   "source": [
    "s"
   ]
  }
 ],
 "metadata": {
  "kernelspec": {
   "display_name": "Python 3",
   "language": "python",
   "name": "python3"
  },
  "language_info": {
   "codemirror_mode": {
    "name": "ipython",
    "version": 3
   },
   "file_extension": ".py",
   "mimetype": "text/x-python",
   "name": "python",
   "nbconvert_exporter": "python",
   "pygments_lexer": "ipython3",
   "version": "3.6.4"
  }
 },
 "nbformat": 4,
 "nbformat_minor": 2
}
