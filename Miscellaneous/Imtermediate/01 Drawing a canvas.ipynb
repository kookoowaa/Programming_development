{
 "cells": [
  {
   "cell_type": "markdown",
   "metadata": {},
   "source": [
    "# 간단한 그림 그리기 프로그램\n",
    "___"
   ]
  },
  {
   "cell_type": "markdown",
   "metadata": {},
   "source": [
    ">- \"tkinter\" 라이브러리를 사용하여 그림 그리기 프로그램 구현 (Lightweight GUI)\n",
    ">- 구현 가능한 기능은 다양하나, 여기에서는 키보드 커맨드에 따라 선 긋는 정도의 프로그램만 구현\n",
    ">- _간단 예제(tkinter 사용하여 윈도우 창 호출)_"
   ]
  },
  {
   "cell_type": "code",
   "execution_count": 4,
   "metadata": {},
   "outputs": [],
   "source": [
    "from tkinter import *\n",
    "\n",
    "canvas_height = 400\n",
    "canvas_width = 600\n",
    "canvas_colour = 'black'\n",
    "\n",
    "window = Tk()\n",
    "window.title('예제')\n",
    "canvas = Canvas(bg = canvas_colour, height = canvas_height, width = canvas_width, highlightthickness = 0)\n",
    "canvas.pack()\n",
    "\n",
    "window.mainloop()"
   ]
  },
  {
   "cell_type": "markdown",
   "metadata": {},
   "source": [
    "## 1. 프로그램 로직\n",
    "___\n",
    "\n",
    "#### 정의\n",
    "- 캔버스 정의 (사이즈 및 색상)\n",
    "- 좌표 정보 정의 (초기 좌표)\n",
    "- 선 정보 정의 (굵기 및 색상)\n",
    "- 초기 위치 정의 (median, max)\n",
    "\n",
    "#### 로직\n",
    "- 좌표 지정\n",
    "- 초기 좌표에서 목표 좌표까지 방향 설정\n",
    "- GUI 내 표현\n",
    "- 좌표 지정은 1) 직접 값 입력, 2) 컨트롤 입력 두가지 방법으로 구현 가능\n",
    "\n",
    "#### 로직에 따른 사용자함수 생성"
   ]
  },
  {
   "cell_type": "markdown",
   "metadata": {},
   "source": [
    "# 2. 정의\n",
    "___"
   ]
  },
  {
   "cell_type": "markdown",
   "metadata": {},
   "source": [
    "- 사전에 프로그래밍에서 사용할 인수들을 별도로 정의할 시, 추후 프로그램 업데이트 및 내용 수정이 용이"
   ]
  },
  {
   "cell_type": "code",
   "execution_count": 5,
   "metadata": {},
   "outputs": [],
   "source": [
    "#### 캔버스 크기와 배경색 정의\n",
    "canvas_height = 400\n",
    "canvas_width = 600\n",
    "canvas_colour = 'black'\n",
    "\n",
    "#### 초기 좌표 정의\n",
    "p1_x = canvas_width/2\n",
    "p1_y = canvas_height\n",
    "\n",
    "#### 굵기 및 색상\n",
    "ln_colour = 'green'\n",
    "ln_width = 5\n",
    "ln_length = 5"
   ]
  },
  {
   "cell_type": "code",
   "execution_count": null,
   "metadata": {},
   "outputs": [],
   "source": []
  },
  {
   "cell_type": "code",
   "execution_count": null,
   "metadata": {},
   "outputs": [],
   "source": []
  },
  {
   "cell_type": "code",
   "execution_count": null,
   "metadata": {},
   "outputs": [],
   "source": []
  },
  {
   "cell_type": "code",
   "execution_count": null,
   "metadata": {},
   "outputs": [],
   "source": []
  },
  {
   "cell_type": "code",
   "execution_count": 11,
   "metadata": {},
   "outputs": [],
   "source": [
    "window.mainloop()"
   ]
  },
  {
   "cell_type": "code",
   "execution_count": null,
   "metadata": {},
   "outputs": [],
   "source": []
  },
  {
   "cell_type": "code",
   "execution_count": 3,
   "metadata": {},
   "outputs": [],
   "source": [
    "p1_x = canvas_width/2\n",
    "p1_y = canvas_height\n",
    "p1_colour = 'green'\n",
    "line_width = 5\n",
    "line_length = 5"
   ]
  },
  {
   "cell_type": "code",
   "execution_count": 4,
   "metadata": {},
   "outputs": [],
   "source": [
    "def p1_move_n(event):\n",
    "    global p1_y\n",
    "    \n",
    "    canvas.create_line(p1_x, p1_y, p1_x, (p1_y - line_length), \n",
    "                       width = line_width, fill = p1_colour)\n",
    "    p1_y = p1_y - line_length"
   ]
  },
  {
   "cell_type": "code",
   "execution_count": 5,
   "metadata": {},
   "outputs": [],
   "source": [
    "window = Tk()\n",
    "window.title('test2')\n",
    "canvas = Canvas(bg = canvas_colour, height = canvas_height,\n",
    "               width = canvas_width, highlightthickness = 0)\n",
    "canvas.pack()"
   ]
  },
  {
   "cell_type": "code",
   "execution_count": 6,
   "metadata": {},
   "outputs": [],
   "source": [
    "window.mainloop()"
   ]
  },
  {
   "cell_type": "code",
   "execution_count": null,
   "metadata": {},
   "outputs": [],
   "source": [
    "s"
   ]
  }
 ],
 "metadata": {
  "kernelspec": {
   "display_name": "Python 3",
   "language": "python",
   "name": "python3"
  },
  "language_info": {
   "codemirror_mode": {
    "name": "ipython",
    "version": 3
   },
   "file_extension": ".py",
   "mimetype": "text/x-python",
   "name": "python",
   "nbconvert_exporter": "python",
   "pygments_lexer": "ipython3",
   "version": "3.6.4"
  }
 },
 "nbformat": 4,
 "nbformat_minor": 2
}
