{
 "cells": [
  {
   "cell_type": "markdown",
   "metadata": {},
   "source": [
    "# 간단한 단어사전 프로그램\n",
    "___"
   ]
  },
  {
   "cell_type": "markdown",
   "metadata": {},
   "source": [
    "> - tkinter를 사용한 GUI 기반 단어사전\n",
    "> - 딕셔너리 기반 프로그래밍"
   ]
  },
  {
   "cell_type": "code",
   "execution_count": 2,
   "metadata": {},
   "outputs": [],
   "source": [
    "from tkinter import *\n",
    "\n",
    "#### 키 입력 함수\n",
    "def click():\n",
    "    entered_text = entry.get()   # 텍스트 엔트리 위제승로부터 입력한 텍스트를 수집\n",
    "    output.delete(0.0, END)    # 텍스트 박스 내용 삭제\n",
    "    try:\n",
    "        definition = glossary[entered_text]\n",
    "    except:\n",
    "        definition = '단어를 찾을 수 없습니다'\n",
    "    output.insert(END, definition)\n",
    "\n",
    "#### 메인창\n",
    "window = Tk()\n",
    "window.title('간단한 사용자 사전')\n",
    "\n",
    "\n",
    "#### 레이블 생성\n",
    "Label(window, text = '찾고자 하는 단어를 입력하고 엔터 키를 누르세요: ').grid(row = 0, column = 0, sticky = W)    #sticky는 정렬 위치를 의미\n",
    "\n",
    "#### 텍스트 엔트리 위젯 생성\n",
    "entry = Entry(window, width = 20, bg = 'light blue')\n",
    "entry.grid(row = 1, column = 0, sticky = W)\n",
    "\n",
    "#### 제출 버튼 추가\n",
    "Button(window, text = '제출', width=5, command=click).grid(row=2, column=0, sticky=W)\n",
    "\n",
    "\n",
    "#### 다른 레이블 생성\n",
    "Label(window, text = '\\n정의: ').grid(row=3, column=0, sticky=W) \n",
    "\n",
    "\n",
    "### 텍스트 박스 생성\n",
    "output = Text(window, width=75, height=6, wrap=WORD, background='light blue')\n",
    "output.grid(row=4, column=0, columnspan=2, sticky=W)\n",
    "\n",
    "### 사전\n",
    "glossary = {\n",
    "    '알고리즘': '컴퓨터로 작업을 수행하기 위해 컴퓨터가 이해할 수 있도록 단계별로 설명해 놓은 것',\n",
    "    '버그': '프로그램이 적절하게 동작하는데 실패하거나 또는 전혀 동작하지 않는 원일을 제공하는 코드 조작',\n",
    "    '2진수': '2진법으로 나타낸 숫자',\n",
    "    '함수': '재사용 할 수 있는 코드 조각'\n",
    "}\n",
    "\n",
    "\n",
    "### 메인 반복문 실행\n",
    "window.mainloop()"
   ]
  },
  {
   "cell_type": "markdown",
   "metadata": {},
   "source": [
    "## 1. 프로그램 로직\n",
    "\n",
    "#### 정의\n",
    "- tkinter 상의 각 오브젝트 정의\n",
    "- 사전 딕셔너리 내용 정의\n",
    "- 입력 사용자 함수 정의\n",
    "- 사용자 함수 내 시나리오 정의\n",
    "\n",
    "#### 로직\n",
    "- 사용자 사전 생성\n",
    "- 텍스트 엔트리 오브젝트에 입력 값 기입\n",
    "- 사용자 함수 통해 입력 값을 사용자 사전에서 탐색\n",
    "- 동일 값 확인 시 반환, 아닐 시 특정 문자열 반환\n",
    "___"
   ]
  },
  {
   "cell_type": "markdown",
   "metadata": {},
   "source": [
    "## 2. 로직 구현"
   ]
  },
  {
   "cell_type": "markdown",
   "metadata": {},
   "source": [
    "### 사전 생성\n",
    "___\n",
    "- 본 프로그램에서 사용하기 위한 사용자 사전 생성"
   ]
  },
  {
   "cell_type": "code",
   "execution_count": 6,
   "metadata": {},
   "outputs": [],
   "source": [
    "### 사전\n",
    "glossary = {\n",
    "    '알고리즘': '컴퓨터로 작업을 수행하기 위해 컴퓨터가 이해할 수 있도록 단계별로 설명해 놓은 것',\n",
    "    '버그': '프로그램이 적절하게 동작하는데 실패하거나 또는 전혀 동작하지 않는 원일을 제공하는 코드 조작',\n",
    "    '2진수': '2진법으로 나타낸 숫자',\n",
    "    '함수': '재사용 할 수 있는 코드 조각'\n",
    "}"
   ]
  },
  {
   "cell_type": "markdown",
   "metadata": {},
   "source": [
    "### GUI 생성\n",
    "___\n",
    "- 순서대로 상단 레이블, 입력창, 버튼, 하단레이블, 텍스트 박스 생성"
   ]
  },
  {
   "cell_type": "code",
   "execution_count": 5,
   "metadata": {},
   "outputs": [],
   "source": [
    "from tkinter import *\n",
    "\n",
    "\n",
    "#### 메인창\n",
    "window = Tk()\n",
    "window.title('간단한 사용자 사전')\n",
    "\n",
    "\n",
    "#### 레이블 생성\n",
    "Label(window, text = '찾고자 하는 단어를 입력하고 엔터 키를 누르세요: ').grid(row = 0, column = 0, sticky = W)    #sticky는 정렬 위치를 의미\n",
    "\n",
    "\n",
    "#### 텍스트 엔트리 위젯 생성\n",
    "entry = Entry(window, width = 20, bg = 'light blue')\n",
    "entry.grid(row = 1, column = 0, sticky = W)\n",
    "\n",
    "\n",
    "#### 제출 버튼 추가\n",
    "Button(window, text = '제출', width=5).grid(row=2, column=0, sticky=W)\n",
    "\n",
    "\n",
    "#### 다른 레이블 생성\n",
    "Label(window, text = '\\n정의: ').grid(row=3, column=0, sticky=W) \n",
    "\n",
    "\n",
    "### 텍스트 박스 생성\n",
    "output = Text(window, width=75, height=6, wrap=WORD, background='light blue')\n",
    "output.grid(row=4, column=0, columnspan=2, sticky=W)\n",
    "\n",
    "\n",
    "### 메인 반복문 실행\n",
    "window.mainloop()"
   ]
  },
  {
   "cell_type": "markdown",
   "metadata": {},
   "source": [
    "### 사용자 함수 생성\n",
    "___\n",
    "- entry 개체의 입력값을 수집\n",
    "- 수집된 값을 사용자 사전에서 검색\n",
    "- 검색된 값을 반환\n",
    "- 사용자 함수를 Button에 바인딩"
   ]
  },
  {
   "cell_type": "code",
   "execution_count": 7,
   "metadata": {},
   "outputs": [],
   "source": [
    "#### 키 입력 함수\n",
    "def click():\n",
    "    entered_text = entry.get()   # 텍스트 엔트리 위제승로부터 입력한 텍스트를 수집\n",
    "    output.delete(0.0, END)    # 텍스트 박스 내용 삭제\n",
    "    try:\n",
    "        definition = glossary[entered_text]\n",
    "    except:\n",
    "        definition = '단어를 찾을 수 없습니다'    #dictionary에 입력 값이 없을 경우를 대비하여 에러 발생 시 지정 문구 반환\n",
    "    output.insert(END, definition)"
   ]
  },
  {
   "cell_type": "code",
   "execution_count": 11,
   "metadata": {},
   "outputs": [],
   "source": [
    "window = Tk()\n",
    "window.title('간단한 사용자 사전')\n",
    "Label(window, text = '찾고자 하는 단어를 입력하고 엔터 키를 누르세요: ').grid(row = 0, column = 0, sticky = W)\n",
    "entry = Entry(window, width = 20, bg = 'light blue')\n",
    "entry.grid(row = 1, column = 0, sticky = W)\n",
    "\n",
    "\n",
    "Button(window, text = '제출', width=5, command=click).grid(row=2, column=0, sticky=W)    #### command=click 옵션 추가\n",
    "\n",
    "\n",
    "Label(window, text = '\\n정의: ').grid(row=3, column=0, sticky=W) \n",
    "output = Text(window, width=75, height=6, wrap=WORD, background='light blue')\n",
    "output.grid(row=4, column=0, columnspan=2, sticky=W)\n",
    "window.mainloop()"
   ]
  },
  {
   "cell_type": "markdown",
   "metadata": {},
   "source": [
    "## 3. web-scrapping을 통한 로직 구현\n",
    "___\n",
    ">- 사용자 사전에 없는 데이터는 확인이 불가능\n",
    ">- reference 지점을 사용자 사전 대신 \"다음 사전\"을 사용\n",
    ">- 실시간 web 검색 구현"
   ]
  },
  {
   "cell_type": "markdown",
   "metadata": {},
   "source": [
    "#### 로직\n",
    "- 텍스트 엔트리 오브젝트에 입력 값 기입\n",
    "- 사용자 함수 통해 입력 값 수집\n",
    "- 수집된 값을 쿼리로 저수준 web-api 구현\n",
    "- html 탐색 통해 대표 설명값 반환\n",
    "- 이 모든 것을 click 함수에서 구현"
   ]
  },
  {
   "cell_type": "code",
   "execution_count": 13,
   "metadata": {},
   "outputs": [],
   "source": [
    "from bs4 import BeautifulSoup as bs4\n",
    "from urllib.request import urlopen\n",
    "from urllib.parse import quote    # quote 라이브러리를 통해 주소에 포함된 한글 처리"
   ]
  },
  {
   "cell_type": "markdown",
   "metadata": {},
   "source": [
    "#### click 로직\n",
    "- \"다음 사전\"에서 특정 단어를 검색하는 방법은 http://dic.daum.net/search.do?q=  +  \"검색어\"로 가능\n",
    "- \"검색어\"는 에러 방지를 위해 quote 라이브러리로 저장\n",
    "- 수집된 웹페이지에서 <class = \"text_search\">로 대표 사전 값 추출\n",
    "- 입력 값 반환"
   ]
  },
  {
   "cell_type": "code",
   "execution_count": 19,
   "metadata": {},
   "outputs": [],
   "source": [
    "def click():\n",
    "    entered_text = entry.get()   # 텍스트 엔트리 위제승로부터 입력한 텍스트를 수집\n",
    "    output.delete(0.0, END)    # 텍스트 박스 내용 삭제\n",
    "    try:\n",
    "        url = 'http://dic.daum.net/search.do?q='\n",
    "        query = quote(entered_text)\n",
    "        crawled = bs4(urlopen(url+query), 'html.parser')\n",
    "        definition = crawled.find(attrs = {'class': 'txt_search'}).get_text()\n",
    "    except:\n",
    "        definition = \"단어를 찾을 수 없습니다\"\n",
    "    output.insert(END, definition)"
   ]
  },
  {
   "cell_type": "code",
   "execution_count": 20,
   "metadata": {},
   "outputs": [],
   "source": [
    "window = Tk()\n",
    "window.title('간단한 사용자 사전')\n",
    "Label(window, text = '찾고자 하는 단어를 입력하고 엔터 키를 누르세요: ').grid(row = 0, column = 0, sticky = W)\n",
    "entry = Entry(window, width = 20, bg = 'light blue')\n",
    "entry.grid(row = 1, column = 0, sticky = W)\n",
    "Button(window, text = '제출', width=5, command=click).grid(row=2, column=0, sticky=W)\n",
    "Label(window, text = '\\n정의: ').grid(row=3, column=0, sticky=W) \n",
    "output = Text(window, width=75, height=6, wrap=WORD, background='light blue')\n",
    "output.grid(row=4, column=0, columnspan=2, sticky=W)\n",
    "window.mainloop()"
   ]
  }
 ],
 "metadata": {
  "kernelspec": {
   "display_name": "Python 3",
   "language": "python",
   "name": "python3"
  },
  "language_info": {
   "codemirror_mode": {
    "name": "ipython",
    "version": 3
   },
   "file_extension": ".py",
   "mimetype": "text/x-python",
   "name": "python",
   "nbconvert_exporter": "python",
   "pygments_lexer": "ipython3",
   "version": "3.6.4"
  }
 },
 "nbformat": 4,
 "nbformat_minor": 2
}
