{
 "cells": [
  {
   "cell_type": "code",
   "execution_count": 1,
   "metadata": {},
   "outputs": [],
   "source": [
    "# MyPong의 주된 파일을 만듭니다.\n",
    "\n",
    "from tkinter import *\n",
    "import table, ball\n",
    "\n",
    "# 전역 변수 선언\n",
    "x_velocity = 10\n",
    "y_velocity = 10\n",
    "\n",
    "# tkinter 공장으로부터 윈도우 주문\n",
    "window = Tk()\n",
    "window.title(\"MyPong\")\n",
    "       \n",
    "# Table 공장으로부터 table 주문\n",
    "my_table = table.Table(window, net_colour=\"green\", vertical_net=True)\n",
    "\n",
    "# Ball 공장으로부터 볼을 주문합니다\n",
    "my_ball = ball.Ball(table=my_table, x_speed=x_velocity, y_speed=y_velocity,\n",
    "                    width=24, height=24, colour=\"red\", x_start=288, y_start=188)\n",
    "\n",
    "#### 함수:\n",
    "def game_flow():\n",
    "    my_ball.move_next()\n",
    "    window.after(50, game_flow)\n",
    "\n",
    "# game_flow를 호출합니다.\n",
    "game_flow()\n",
    "\n",
    "# tkinter 반복문 프로세스를 시작합니다.\n",
    "window.mainloop()\n"
   ]
  },
  {
   "cell_type": "code",
   "execution_count": null,
   "metadata": {},
   "outputs": [],
   "source": []
  }
 ],
 "metadata": {
  "kernelspec": {
   "display_name": "Python 3",
   "language": "python",
   "name": "python3"
  },
  "language_info": {
   "codemirror_mode": {
    "name": "ipython",
    "version": 3
   },
   "file_extension": ".py",
   "mimetype": "text/x-python",
   "name": "python",
   "nbconvert_exporter": "python",
   "pygments_lexer": "ipython3",
   "version": "3.6.4"
  }
 },
 "nbformat": 4,
 "nbformat_minor": 2
}
