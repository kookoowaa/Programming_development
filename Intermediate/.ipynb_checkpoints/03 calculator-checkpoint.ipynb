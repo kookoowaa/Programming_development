{
 "cells": [
  {
   "cell_type": "markdown",
   "metadata": {},
   "source": [
    "# 계산기 만들기\n",
    "___"
   ]
  },
  {
   "cell_type": "code",
   "execution_count": 147,
   "metadata": {},
   "outputs": [],
   "source": [
    "from tkinter import *\n",
    "from decimal import *\n",
    "\n",
    "def factorial(n):\n",
    "    if n ==0:\n",
    "        return 1\n",
    "    else:\n",
    "        return (np.arange(n)+1).cumprod()[n-1]\n",
    "\n",
    "def click(key):\n",
    "    if key == '=':\n",
    "        result = str(eval(display.get()))\n",
    "        display.insert(END, '=' + result)\n",
    "    \n",
    "    elif key == 'C':\n",
    "        display.delete(0, END)\n",
    "        \n",
    "    elif key == constants_list[0]:\n",
    "        display.insert(END, '3.141592654')\n",
    "    elif key == constants_list[1]:\n",
    "        display.insert(END, '300000000')\n",
    "    elif key == constants_list[2]:\n",
    "        display.insert(END, '330')\n",
    "    elif key == constants_list[3]:\n",
    "        display.insert(END,'149597887.5')\n",
    "    \n",
    "    elif key == functions_list[0]:\n",
    "        n = int(display.get())\n",
    "        display.delete(0, END)\n",
    "        display.insert(END, factorial(n))\n",
    "    elif key == functions_list[1]:\n",
    "        display.delete(0, END)\n",
    "        display.insert(END, 'TBD')\n",
    "    elif key == functions_list[2]:\n",
    "        n = int(display.get())\n",
    "        display.delete(0, END)\n",
    "        display.insert(END, np.binary_repr(n))\n",
    "    elif key == functions_list[3]:\n",
    "        n = int(display.get())\n",
    "        display.delete(0, END)\n",
    "        try:\n",
    "            display.insert(END, int(str(n),2))   \n",
    "        except:\n",
    "            display.insert(END, \"에러 발생\")   \n",
    "    \n",
    "    else:\n",
    "        display.insert(END, key)\n",
    "    \n",
    "window = Tk()\n",
    "window.title('Calculator')\n",
    "\n",
    "top_row = Frame(window)\n",
    "top_row.grid(row=0, column=0, columnspan=2, sticky=N)\n",
    "\n",
    "display = Entry(top_row, width=45, bg='light blue')\n",
    "display.grid()"
   ]
  },
  {
   "cell_type": "code",
   "execution_count": 148,
   "metadata": {},
   "outputs": [],
   "source": [
    "num_pad = Frame(window)\n",
    "num_pad.grid(row=1, column=0, sticky=W)\n",
    "num_pad_list = [7, 8, 9, 4, 5, 6, 1, 2, 3, '.', '=']\n",
    "r = 0\n",
    "c = 0\n",
    "for btn in num_pad_list:\n",
    "    def cmd(x=btn):\n",
    "        click(x)\n",
    "    Button(num_pad, text=btn, width=5, command=cmd).grid(row=r, column=c)\n",
    "    c+=1\n",
    "    if c>2:\n",
    "        c=0\n",
    "        r+=1"
   ]
  },
  {
   "cell_type": "code",
   "execution_count": 149,
   "metadata": {},
   "outputs": [],
   "source": [
    "operator = Frame(window)\n",
    "operator.grid(row=1, column=1, sticky=NE)\n",
    "operator_list = ['*', '/', '+', '-', '(', ')', 'C']\n",
    "r = 0\n",
    "c = 0\n",
    "for btn in operator_list:\n",
    "    def cmd(x=btn):\n",
    "        click(x)\n",
    "    Button(operator, text=btn, width=5, command=cmd).grid(row=r, column=c)\n",
    "    c+=1\n",
    "    if c>2:\n",
    "        c=0\n",
    "        r+=1"
   ]
  },
  {
   "cell_type": "code",
   "execution_count": 150,
   "metadata": {},
   "outputs": [],
   "source": [
    "constants = Frame(window)\n",
    "constants.grid(row=3, column=0, sticky=W)\n",
    "constants_list = ['pi', '빛의 이동 속도(m/s)', '소리의 이동 속도(m/s)', '태양과의 평균 거리(km)']\n",
    "r = 0\n",
    "c = 0\n",
    "for btn in constants_list:\n",
    "    def cmd(x=btn):\n",
    "        click(x)\n",
    "    Button(constants, text=btn, width=22, command=cmd).grid(row=r, column=c)\n",
    "    r+=1"
   ]
  },
  {
   "cell_type": "code",
   "execution_count": 151,
   "metadata": {},
   "outputs": [],
   "source": [
    "functions = Frame(window)\n",
    "functions.grid(row=3, column=1, sticky=E)\n",
    "functions_list = ['factorial', 'roman', 'binary', 'binary -> 10']\n",
    "r = 0\n",
    "c = 0\n",
    "for btn in functions_list:\n",
    "    def cmd(x=btn):\n",
    "        click(x)\n",
    "    Button(functions, text=btn, width=13, command=cmd).grid(row=r, column=c)\n",
    "    r+=1"
   ]
  },
  {
   "cell_type": "code",
   "execution_count": 152,
   "metadata": {},
   "outputs": [],
   "source": [
    "window.mainloop()"
   ]
  }
 ],
 "metadata": {
  "kernelspec": {
   "display_name": "Python 3",
   "language": "python",
   "name": "python3"
  },
  "language_info": {
   "codemirror_mode": {
    "name": "ipython",
    "version": 3
   },
   "file_extension": ".py",
   "mimetype": "text/x-python",
   "name": "python",
   "nbconvert_exporter": "python",
   "pygments_lexer": "ipython3",
   "version": "3.6.4"
  }
 },
 "nbformat": 4,
 "nbformat_minor": 2
}
