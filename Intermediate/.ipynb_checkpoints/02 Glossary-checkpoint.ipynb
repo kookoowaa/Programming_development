{
 "cells": [
  {
   "cell_type": "markdown",
   "metadata": {},
   "source": [
    "# 간단한 단어사전 프로그램\n",
    "___"
   ]
  },
  {
   "cell_type": "markdown",
   "metadata": {},
   "source": [
    "> - tkinter를 사용한 GUI 기반 단어사전\n",
    "> - 딕셔너리 기반 프로그래밍\n",
    "> - 간단 예제"
   ]
  },
  {
   "cell_type": "code",
   "execution_count": 18,
   "metadata": {},
   "outputs": [],
   "source": [
    "from tkinter import *\n",
    "\n",
    "#### 키 입력 함수\n",
    "def click():\n",
    "    entered_text = entry.get()   # 텍스트 엔트리 위제승로부터 입력한 텍스트를 수집\n",
    "    output.delete(0.0, END)    # 텍스트 박스 내용 삭제\n",
    "    try:\n",
    "        definition = glossary[entered_text]\n",
    "    except:\n",
    "        definition = '단어를 찾을 수 없습니다'\n",
    "    output.insert(END, definition)\n",
    "\n",
    "#### 메인창\n",
    "window = Tk()\n",
    "window.title('간단한 사용자 사전')\n",
    "\n",
    "\n",
    "#### 레이블 생성\n",
    "Label(window, text = '찾고자 하는 단어를 입력하고 엔터 키를 누르세요: ').grid(row = 0, column = 0, sticky = W)    #sticky는 정렬 위치를 의미\n",
    "\n",
    "#### 텍스트 엔트리 위젯 생성\n",
    "entry = Entry(window, width = 20, bg = 'light blue')\n",
    "entry.grid(row = 1, column = 0, sticky = W)\n",
    "\n",
    "#### 제출 버튼 추가\n",
    "Button(window, text = '제출', width=5, command=click).grid(row=2, column=0, sticky=W)\n",
    "\n",
    "\n",
    "#### 다른 레이블 생성\n",
    "Label(window, text = '\\n정의: ').grid(row=3, column=0, sticky=W) \n",
    "\n",
    "\n",
    "### 텍스트 박스 생성\n",
    "output = Text(window, width=75, height=6, wrap=WORD, background='light blue')\n",
    "output.grid(row=4, column=0, columnspan=2, sticky=W)\n",
    "\n",
    "### 사전\n",
    "glossary = {\n",
    "    '알고리즘': '컴퓨터로 작업을 수행하기 위해 컴퓨터가 이해할 수 있도록 단계별로 설명해 놓은 것',\n",
    "    '버그': '프로그램이 적절하게 동작하는데 실패하거나 또는 전혀 동작하지 않는 원일을 제공하는 코드 조작',\n",
    "    '2진수': '2진법으로 나타낸 숫자',\n",
    "    '함수': '재사용 할 수 있는 코드 조각'\n",
    "}\n",
    "\n",
    "\n",
    "### 메인 반복문 실행\n",
    "window.mainloop()"
   ]
  },
  {
   "cell_type": "code",
   "execution_count": null,
   "metadata": {},
   "outputs": [],
   "source": []
  },
  {
   "cell_type": "code",
   "execution_count": null,
   "metadata": {},
   "outputs": [],
   "source": []
  },
  {
   "cell_type": "code",
   "execution_count": null,
   "metadata": {},
   "outputs": [],
   "source": []
  },
  {
   "cell_type": "code",
   "execution_count": null,
   "metadata": {},
   "outputs": [],
   "source": []
  },
  {
   "cell_type": "code",
   "execution_count": 20,
   "metadata": {},
   "outputs": [],
   "source": [
    "from bs4 import BeautifulSoup as bs4\n",
    "from urllib.request import urlopen\n",
    "from urllib.parse import quote"
   ]
  },
  {
   "cell_type": "code",
   "execution_count": 88,
   "metadata": {},
   "outputs": [],
   "source": [
    "from tkinter import *\n",
    "\n",
    "#### 키 입력 함수\n",
    "def click():\n",
    "    entered_text = entry.get()   # 텍스트 엔트리 위제승로부터 입력한 텍스트를 수집\n",
    "    output.delete(0.0, END)    # 텍스트 박스 내용 삭제\n",
    "    try:\n",
    "        definition = glossary[entered_text]\n",
    "    except:\n",
    "        url = 'http://dic.daum.net/search.do?q='\n",
    "        query = quote(entered_text)\n",
    "        crawled = bs4(urlopen(url+query), 'html.parser')\n",
    "        s\n",
    "        glossary[entered_text] = crawled.find(attrs = {'class': 'txt_search'}).get_text()\n",
    "        definition = glossary[entered_text]\n",
    "    output.insert(END, definition)\n",
    "\n",
    "#### 메인창\n",
    "window = Tk()\n",
    "window.title('간단한 사용자 사전')\n",
    "\n",
    "\n",
    "#### 레이블 생성\n",
    "Label(window, text = '찾고자 하는 단어를 입력하고 엔터 키를 누르세요: ').grid(row = 0, column = 0, sticky = W)    #sticky는 정렬 위치를 의미\n",
    "\n",
    "#### 텍스트 엔트리 위젯 생성\n",
    "entry = Entry(window, width = 20, bg = 'light blue')\n",
    "entry.grid(row = 1, column = 0, sticky = W)\n",
    "\n",
    "#### 제출 버튼 추가\n",
    "Button(window, text = '제출', width=5, command=click).grid(row=2, column=0, sticky=W)\n",
    "\n",
    "\n",
    "#### 다른 레이블 생성\n",
    "Label(window, text = '\\n정의: ').grid(row=3, column=0, sticky=W) \n",
    "\n",
    "\n",
    "### 텍스트 박스 생성\n",
    "output = Text(window, width=75, height=6, wrap=WORD, background='light blue')\n",
    "output.grid(row=4, column=0, columnspan=2, sticky=W)\n",
    "\n",
    "### 사전\n",
    "glossary = {\n",
    "    '알고리즘': '컴퓨터로 작업을 수행하기 위해 컴퓨터가 이해할 수 있도록 단계별로 설명해 놓은 것',\n",
    "    '버그': '프로그램이 적절하게 동작하는데 실패하거나 또는 전혀 동작하지 않는 원일을 제공하는 코드 조작',\n",
    "    '2진수': '2진법으로 나타낸 숫자',\n",
    "    '함수': '재사용 할 수 있는 코드 조각'\n",
    "}\n",
    "\n",
    "\n",
    "### 메인 반복문 실행\n",
    "window.mainloop()"
   ]
  },
  {
   "cell_type": "code",
   "execution_count": null,
   "metadata": {},
   "outputs": [],
   "source": []
  }
 ],
 "metadata": {
  "kernelspec": {
   "display_name": "Python 3",
   "language": "python",
   "name": "python3"
  },
  "language_info": {
   "codemirror_mode": {
    "name": "ipython",
    "version": 3
   },
   "file_extension": ".py",
   "mimetype": "text/x-python",
   "name": "python",
   "nbconvert_exporter": "python",
   "pygments_lexer": "ipython3",
   "version": "3.6.4"
  }
 },
 "nbformat": 4,
 "nbformat_minor": 2
}
