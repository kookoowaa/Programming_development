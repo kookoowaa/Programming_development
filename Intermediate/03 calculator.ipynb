{
 "cells": [
  {
   "cell_type": "markdown",
   "metadata": {},
   "source": [
    "# 계산기 만들기\n",
    "___"
   ]
  },
  {
   "cell_type": "code",
   "execution_count": 1,
   "metadata": {},
   "outputs": [],
   "source": [
    "from tkinter import *\n",
    "from decimal import *\n",
    "\n",
    "def click(key):\n",
    "    if key == '=':\n",
    "        result = str(eval(display.get()))\n",
    "        display.insert(END, '=' + result)\n",
    "    \n",
    "    elif key == 'C':\n",
    "        display.delete(0, END)\n",
    "    \n",
    "    else:\n",
    "        display.insert(END, key)\n",
    "    \n",
    "window = Tk()\n",
    "window.title('Calculator')\n",
    "\n",
    "top_row = Frame(window)\n",
    "top_row.grid(row=0, column=0, columnspan=2, sticky=N)\n",
    "\n",
    "display = Entry(top_row, width=45, bg='light blue')\n",
    "display.grid()\n",
    "\n",
    "num_pad = Frame(window)\n",
    "num_pad.grid(row=1, column=0, sticky=W)\n",
    "num_pad_list = [7, 8, 9, 4, 5, 6, 1, 2, 3, '.', '=']\n",
    "r = 0\n",
    "c = 0\n",
    "for btn in num_pad_list:\n",
    "    def cmd(x=btn):\n",
    "        click(x)\n",
    "    Button(num_pad, text=btn, width=5, command=cmd).grid(row=r, column=c)\n",
    "    c+=1\n",
    "    if c>2:\n",
    "        c=0\n",
    "        r+=1\n",
    "\n",
    "    \n",
    "\n",
    "operator = Frame(window)\n",
    "operator.grid(row=1, column=1, sticky=NE)\n",
    "operator_list = ['*', '/', '+', '-', '(', ')', 'C']\n",
    "r = 0\n",
    "c = 0\n",
    "for btn in operator_list:\n",
    "    def cmd(x=btn):\n",
    "        click(x)\n",
    "    Button(operator, text=btn, width=5, command=cmd).grid(row=r, column=c)\n",
    "    c+=1\n",
    "    if c>2:\n",
    "        c=0\n",
    "        r+=1\n",
    "        \n",
    "window.mainloop()"
   ]
  },
  {
   "cell_type": "code",
   "execution_count": null,
   "metadata": {},
   "outputs": [],
   "source": []
  }
 ],
 "metadata": {
  "kernelspec": {
   "display_name": "Python 3",
   "language": "python",
   "name": "python3"
  },
  "language_info": {
   "codemirror_mode": {
    "name": "ipython",
    "version": 3
   },
   "file_extension": ".py",
   "mimetype": "text/x-python",
   "name": "python",
   "nbconvert_exporter": "python",
   "pygments_lexer": "ipython3",
   "version": "3.6.4"
  }
 },
 "nbformat": 4,
 "nbformat_minor": 2
}
