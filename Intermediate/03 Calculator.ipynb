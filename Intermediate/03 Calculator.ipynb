{
 "cells": [
  {
   "cell_type": "markdown",
   "metadata": {},
   "source": [
    "# 계산기 만들기\n",
    "___"
   ]
  },
  {
   "cell_type": "markdown",
   "metadata": {},
   "source": [
    ">- tkinter 사용한 GUI 기반 계산기 프로그램\n",
    ">- 숫자패드 외, 사용자 함수로 별도의 기능 구현"
   ]
  },
  {
   "cell_type": "code",
   "execution_count": 3,
   "metadata": {},
   "outputs": [],
   "source": [
    "from tkinter import *\n",
    "from decimal import *"
   ]
  },
  {
   "cell_type": "code",
   "execution_count": 10,
   "metadata": {},
   "outputs": [],
   "source": [
    "#### 윈도우 생성\n",
    "window = Tk()\n",
    "window.title('Calculator')\n",
    "\n",
    "\n",
    "#### 계산기 화면 프레임 생성\n",
    "top_row = Frame(window)\n",
    "top_row.grid(row=0, column=0, columnspan=2, sticky=N)\n",
    "display = Entry(top_row, width=45, bg='light blue')\n",
    "display.grid()\n",
    "\n",
    "\n",
    "#### 계산기 숫자 버튼 생성\n",
    "num_pad = Frame(window)\n",
    "num_pad.grid(row=1, column=0, sticky=W)\n",
    "num_pad_list = [7, 8, 9, 4, 5, 6, 1, 2, 3, '.', '=']\n",
    "r = 0\n",
    "c = 0\n",
    "for btn in num_pad_list:\n",
    "    def cmd(x=btn):\n",
    "        click(x)\n",
    "    Button(num_pad, text=btn, width=5, command=cmd).grid(row=r, column=c)\n",
    "    c+=1\n",
    "    if c>2:\n",
    "        c=0\n",
    "        r+=1\n",
    "        \n",
    "        \n",
    "#### 계산기 function 버튼 생성        \n",
    "operator = Frame(window)\n",
    "operator.grid(row=1, column=1, sticky=NE)\n",
    "operator_list = ['*', '/', '+', '-', '(', ')', 'C']\n",
    "r = 0\n",
    "c = 0\n",
    "for btn in operator_list:\n",
    "    def cmd(x=btn):\n",
    "        click(x)\n",
    "    Button(operator, text=btn, width=5, command=cmd).grid(row=r, column=c)\n",
    "    c+=1\n",
    "    if c>2:\n",
    "        c=0\n",
    "        r+=1\n",
    "\n",
    "\n",
    "#### 계산기 버튼 기능 구현 (!= 기능 별 function)        \n",
    "def click(key):\n",
    "    if key == '=':\n",
    "        result = str(eval(display.get()))\n",
    "        display.insert(END, '=' + result)\n",
    "    \n",
    "    elif key == 'C':\n",
    "        display.delete(0, END)\n",
    "        \n",
    "    else:\n",
    "        display.insert(END, key)\n",
    "\n",
    "window.mainloop()"
   ]
  },
  {
   "cell_type": "markdown",
   "metadata": {},
   "source": [
    "## 1. 프로그램 로직\n",
    "____\n",
    "#### 정의\n",
    "- tkinter 각 오브젝트 정의\n",
    "- 버튼 별 값 정의 (상수)\n",
    "- 버튼 별 function 정의 (사용자함수)\n",
    "\n",
    "#### 로직\n",
    "- GUI 생성\n",
    "- GUI 버튼 별 입력값 화면에 출력\n",
    "- 입력값을 입력변수로 function 구현\n",
    "- 각 function 별로 사용자 함수 생성"
   ]
  },
  {
   "cell_type": "markdown",
   "metadata": {},
   "source": [
    "## 2. 로직 구현\n",
    "### GUI 생성\n",
    "- 윈도우 창 생성"
   ]
  },
  {
   "cell_type": "code",
   "execution_count": 4,
   "metadata": {},
   "outputs": [],
   "source": [
    "window = Tk()\n",
    "window.title('Calculator')"
   ]
  },
  {
   "cell_type": "markdown",
   "metadata": {},
   "source": [
    "- 스크린 생성"
   ]
  },
  {
   "cell_type": "code",
   "execution_count": null,
   "metadata": {},
   "outputs": [],
   "source": [
    "top_row = Frame(window)\n",
    "top_row.grid(row=0, column=0, columnspan=2, sticky=N)\n",
    "display = Entry(top_row, width=45, bg='light blue')\n",
    "display.grid()"
   ]
  },
  {
   "cell_type": "markdown",
   "metadata": {},
   "source": [
    "- 숫자 버튼 생성"
   ]
  },
  {
   "cell_type": "code",
   "execution_count": 5,
   "metadata": {},
   "outputs": [],
   "source": [
    "num_pad = Frame(window)\n",
    "num_pad.grid(row=1, column=0, sticky=W)\n",
    "num_pad_list = [7, 8, 9, 4, 5, 6, 1, 2, 3, '.', '=']\n",
    "r = 0\n",
    "c = 0\n",
    "for btn in num_pad_list:\n",
    "    def cmd(x=btn):\n",
    "        click(x)\n",
    "    Button(num_pad, text=btn, width=5, command=cmd).grid(row=r, column=c)\n",
    "    c+=1\n",
    "    if c>2:\n",
    "        c=0\n",
    "        r+=1"
   ]
  },
  {
   "cell_type": "markdown",
   "metadata": {},
   "source": [
    "- 산술 버튼 생성"
   ]
  },
  {
   "cell_type": "code",
   "execution_count": 6,
   "metadata": {},
   "outputs": [],
   "source": [
    "operator = Frame(window)\n",
    "operator.grid(row=1, column=1, sticky=NE)\n",
    "operator_list = ['*', '/', '+', '-', '(', ')', 'C']\n",
    "r = 0\n",
    "c = 0\n",
    "for btn in operator_list:\n",
    "    def cmd(x=btn):\n",
    "        click(x)\n",
    "    Button(operator, text=btn, width=5, command=cmd).grid(row=r, column=c)\n",
    "    c+=1\n",
    "    if c>2:\n",
    "        c=0\n",
    "        r+=1"
   ]
  },
  {
   "cell_type": "markdown",
   "metadata": {},
   "source": [
    "- 주요 상수 버튼 생성"
   ]
  },
  {
   "cell_type": "code",
   "execution_count": 7,
   "metadata": {},
   "outputs": [],
   "source": [
    "constants = Frame(window)\n",
    "constants.grid(row=3, column=0, sticky=W)\n",
    "constants_list = ['pi', '빛의 이동 속도(m/s)', '소리의 이동 속도(m/s)', '태양과의 평균 거리(km)']\n",
    "r = 0\n",
    "c = 0\n",
    "for btn in constants_list:\n",
    "    def cmd(x=btn):\n",
    "        click(x)\n",
    "    Button(constants, text=btn, width=22, command=cmd).grid(row=r, column=c)\n",
    "    r+=1"
   ]
  },
  {
   "cell_type": "markdown",
   "metadata": {},
   "source": [
    "- 사용자 함수 버튼 생성"
   ]
  },
  {
   "cell_type": "code",
   "execution_count": 8,
   "metadata": {},
   "outputs": [],
   "source": [
    "functions = Frame(window)\n",
    "functions.grid(row=3, column=1, sticky=E)\n",
    "functions_list = ['factorial', 'roman', 'binary', 'binary -> 10']\n",
    "r = 0\n",
    "c = 0\n",
    "for btn in functions_list:\n",
    "    def cmd(x=btn):\n",
    "        click(x)\n",
    "    Button(functions, text=btn, width=13, command=cmd).grid(row=r, column=c)\n",
    "    r+=1"
   ]
  },
  {
   "cell_type": "markdown",
   "metadata": {},
   "source": [
    "### 기능 구현\n",
    "\n",
    "- 기본 click 함수부터 구현 (첫 예제 참조)\n",
    ">- 숫자는 str형태로 입력 받아서 순서대로 기입\n",
    ">- 산술 기호도 문자 형태로 입력 받아서 산술식이 str 형태로 입력\n",
    ">- '=' 버튼 입력시, str 산술식을 eval()함수로 계산하여 다시 str 반환\n",
    ">- 'C' 버튼 입력시 스크린 삭제\n",
    "\n",
    "\n",
    "- 상수 버튼 구현 (click 함수 수정)\n",
    ">- click 함수 내 상수 입력 버튼 추가 생성\n",
    ">- 상수 버튼 입력 시 정해진 상수 값 반환하도록 click 함수 수정\n",
    "\n",
    "\n",
    "- 사용자 function 구현\n",
    ">- 사용자 function 추가 __display.get()으로 입력값 호출__\n",
    ">- click 함수 내 사용자 function 버튼 추가 생성\n",
    ">- 사용자 function 버튼 입력 시 정해진 알고리즘에 따라 산술 수행\n",
    "\n",
    "\n",
    "- 사용자 function (2진법, 10진법 변환)\n",
    ">- 파이썬 내 변환 함수 사용 (numpy)\n",
    "\n",
    "\n",
    "- 사용자 function (factorial)\n",
    ">- np.arange로 지정 값까지 연속형 튜플 생성\n",
    ">- cumprod() 메서드로 연속곱 반환\n",
    ">- 연속곱 튜플의 마지막 값 반환\n",
    "\n",
    "\n",
    "- 사용자 function (to_roman)\n",
    ">- 4999까지만 로마자 변환 수행\n",
    ">- 4999까지 주요 로마자 지표 튜플 및 사전(숫자: '로마자')으로 생성\n",
    ">- 입력값보다 작은 \"가장 큰 로마자 지표 튜플 값\"을 빼고, 사전 값으로 치환\n",
    ">- 위 과정을 입력값이 0이 될때까지 반복\n",
    "\n",
    "## *전 과정을 역순으로 코딩*"
   ]
  },
  {
   "cell_type": "code",
   "execution_count": null,
   "metadata": {},
   "outputs": [],
   "source": [
    "#### click(n)으로 버튼기능 구현\n",
    "#### 각 버튼 별 필요한 기능은 사용자 함수로 구현\n",
    "####\n",
    "\n",
    "#### 로마자 구현 함수 참조\n",
    "def to_roman(n):\n",
    "    try:\n",
    "        n = int(n)\n",
    "    except:\n",
    "        return 'NaN'\n",
    "    \n",
    "    if n > 4999:\n",
    "        return 'Number out of limit'\n",
    "    \n",
    "    #### 튜플과 사전 생성\n",
    "    numberbreaks = (1000, 900, 500, 400, 100, 90, 50, 40, 10, 9, 5, 4 ,1)\n",
    "    letters = {1000: 'M', 900: 'CM', 500: 'DM', 400: 'CD', 100: 'C', 90: 'XC', 50: 'L', 40: 'XL', 10: 'X', 9: 'IX', 5: 'V', 4: 'IV', 1: 'I'}\n",
    "    \n",
    "    #### 알고리즘\n",
    "    #### input에서 가장 큰 nuymberbreak 뺄셈 후 letters 사전 글자와 치환, 상기 과정을 while문으로 반복\n",
    "    result = ''\n",
    "    for value in numberbreaks:\n",
    "        while n >= value:\n",
    "            result = result + letters[value]\n",
    "            n -= value\n",
    "    return result\n",
    "#### #### #### #### #### #### #### #### #### #### #### #### #### #### #### #### #### ####\n",
    "\n",
    "\n",
    "def factorial(n):\n",
    "    if n ==0:\n",
    "        return 1\n",
    "    else:\n",
    "        return (np.arange(n)+1).cumprod()[n-1] #### 튜플 내 연속곱의 마지막 값\n",
    "\n",
    "def click(key):\n",
    "    if key == '=':\n",
    "        result = str(eval(display.get()))\n",
    "        display.insert(END, '=' + result)\n",
    "    \n",
    "    elif key == 'C':\n",
    "        display.delete(0, END)\n",
    "        \n",
    "    elif key == constants_list[0]:\n",
    "        display.insert(END, '3.141592654')\n",
    "    elif key == constants_list[1]:\n",
    "        display.insert(END, '300000000')\n",
    "    elif key == constants_list[2]:\n",
    "        display.insert(END, '330')\n",
    "    elif key == constants_list[3]:\n",
    "        display.insert(END,'149597887.5')\n",
    "    \n",
    "    elif key == functions_list[0]:\n",
    "        n = int(display.get())\n",
    "        display.delete(0, END)\n",
    "        display.insert(END, factorial(n))\n",
    "    elif key == functions_list[1]:\n",
    "        n = display.get()\n",
    "        display.delete(0, END)\n",
    "        display.insert(END, to_roman(n))\n",
    "    elif key == functions_list[2]:\n",
    "        n = int(display.get())\n",
    "        display.delete(0, END)\n",
    "        display.insert(END, np.binary_repr(n))\n",
    "    elif key == functions_list[3]:\n",
    "        n = int(display.get())\n",
    "        display.delete(0, END)\n",
    "        try:\n",
    "            display.insert(END, int(str(n),2))   \n",
    "        except:\n",
    "            display.insert(END, \"에러 발생\")   \n",
    "    \n",
    "    else:\n",
    "        display.insert(END, key)\n"
   ]
  },
  {
   "cell_type": "markdown",
   "metadata": {},
   "source": [
    "### 계산기 실행"
   ]
  },
  {
   "cell_type": "code",
   "execution_count": null,
   "metadata": {
    "scrolled": true
   },
   "outputs": [],
   "source": [
    "window.mainloop()"
   ]
  }
 ],
 "metadata": {
  "kernelspec": {
   "display_name": "Python 3",
   "language": "python",
   "name": "python3"
  },
  "language_info": {
   "codemirror_mode": {
    "name": "ipython",
    "version": 3
   },
   "file_extension": ".py",
   "mimetype": "text/x-python",
   "name": "python",
   "nbconvert_exporter": "python",
   "pygments_lexer": "ipython3",
   "version": "3.6.4"
  }
 },
 "nbformat": 4,
 "nbformat_minor": 2
}
