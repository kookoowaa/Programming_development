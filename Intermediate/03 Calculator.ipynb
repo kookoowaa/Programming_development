{
 "cells": [
  {
   "cell_type": "markdown",
   "metadata": {},
   "source": [
    "# 계산기 만들기\n",
    "___"
   ]
  },
  {
   "cell_type": "code",
   "execution_count": 30,
   "metadata": {},
   "outputs": [],
   "source": [
    "from tkinter import *\n",
    "from decimal import *\n",
    "\n",
    "def click(key):\n",
    "    if key == '=':\n",
    "        result = str(eval(display.get()))\n",
    "        display.insert(END, '=' + result)\n",
    "    \n",
    "    elif key == 'C':\n",
    "        display.delete(0, END)\n",
    "    \n",
    "    else:\n",
    "        display.insert(END, key)\n",
    "    \n",
    "window = Tk()\n",
    "window.title('Calculator')\n",
    "\n",
    "top_row = Frame(window)\n",
    "top_row.grid(row=0, column=0, columnspan=2, sticky=N)\n",
    "\n",
    "display = Entry(top_row, width=45, bg='light blue')\n",
    "display.grid()"
   ]
  },
  {
   "cell_type": "code",
   "execution_count": 31,
   "metadata": {},
   "outputs": [],
   "source": [
    "num_pad = Frame(window)\n",
    "num_pad.grid(row=1, column=0, sticky=W)\n",
    "num_pad_list = [7, 8, 9, 4, 5, 6, 1, 2, 3, '.', '=']\n",
    "r = 0\n",
    "c = 0\n",
    "for btn in num_pad_list:\n",
    "    def cmd(x=btn):\n",
    "        click(x)\n",
    "    Button(num_pad, text=btn, width=5, command=cmd).grid(row=r, column=c)\n",
    "    c+=1\n",
    "    if c>2:\n",
    "        c=0\n",
    "        r+=1"
   ]
  },
  {
   "cell_type": "code",
   "execution_count": 32,
   "metadata": {},
   "outputs": [],
   "source": [
    "operator = Frame(window)\n",
    "operator.grid(row=1, column=1, sticky=NE)\n",
    "operator_list = ['*', '/', '+', '-', '(', ')', 'C']\n",
    "r = 0\n",
    "c = 0\n",
    "for btn in operator_list:\n",
    "    def cmd(x=btn):\n",
    "        click(x)\n",
    "    Button(operator, text=btn, width=5, command=cmd).grid(row=r, column=c)\n",
    "    c+=1\n",
    "    if c>2:\n",
    "        c=0\n",
    "        r+=1"
   ]
  },
  {
   "cell_type": "code",
   "execution_count": 33,
   "metadata": {},
   "outputs": [],
   "source": [
    "constants = Frame(window)\n",
    "constants.grid(row=5, column=0, sticky=W)\n",
    "constants_list = ['pi', '빛의 이동 속도(m/s)', '소리의 이동 속도(m/s)', '태양과의 평균 거리(km)']\n",
    "r = 0\n",
    "c = 0\n",
    "for btn in constants_list:\n",
    "    def cmd(x=btn):\n",
    "        click(x)\n",
    "    Button(operator, text=btn, width=22, command=cmd).grid(row=r, column=c)\n",
    "    r+=1"
   ]
  },
  {
   "cell_type": "code",
   "execution_count": 34,
   "metadata": {},
   "outputs": [],
   "source": [
    "functions = Frame(window)\n",
    "functions.grid(row=5, column=0, sticky=E)\n",
    "functions_list = ['factorial', 'roman', 'binary', 'binary -> 10']\n",
    "r = 0\n",
    "c = 0\n",
    "for btn in functions_list:\n",
    "    def cmd(x=btn):\n",
    "        click(x)\n",
    "    Button(operator, text=btn, width=22, command=cmd).grid(row=r, column=c)\n",
    "    r+=1"
   ]
  },
  {
   "cell_type": "code",
   "execution_count": 35,
   "metadata": {},
   "outputs": [
    {
     "name": "stderr",
     "output_type": "stream",
     "text": [
      "Exception in Tkinter callback\n",
      "Traceback (most recent call last):\n",
      "  File \"C:\\Programming\\Anaconda3\\lib\\tkinter\\__init__.py\", line 1699, in __call__\n",
      "    return self.func(*args)\n",
      "  File \"<ipython-input-31-7300a212f5ee>\", line 8, in cmd\n",
      "    click(x)\n",
      "  File \"<ipython-input-30-154f05fa00f3>\", line 6, in click\n",
      "    result = str(eval(display.get()))\n",
      "  File \"<string>\", line 1\n",
      "    factorialromanbinary -> 108+2\n",
      "                          ^\n",
      "SyntaxError: invalid syntax\n"
     ]
    }
   ],
   "source": [
    "        \n",
    "window.mainloop()"
   ]
  },
  {
   "cell_type": "code",
   "execution_count": null,
   "metadata": {},
   "outputs": [],
   "source": []
  }
 ],
 "metadata": {
  "kernelspec": {
   "display_name": "Python 3",
   "language": "python",
   "name": "python3"
  },
  "language_info": {
   "codemirror_mode": {
    "name": "ipython",
    "version": 3
   },
   "file_extension": ".py",
   "mimetype": "text/x-python",
   "name": "python",
   "nbconvert_exporter": "python",
   "pygments_lexer": "ipython3",
   "version": "3.6.4"
  }
 },
 "nbformat": 4,
 "nbformat_minor": 2
}
