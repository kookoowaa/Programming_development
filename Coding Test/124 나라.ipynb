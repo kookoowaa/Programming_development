{
 "cells": [
  {
   "cell_type": "markdown",
   "metadata": {},
   "source": [
    "#### 문제 설명 (lv2)\n",
    "\n",
    "124 나라가 있습니다. 124 나라에서는 10진법이 아닌 다음과 같은 자신들만의 규칙으로 수를 표현합니다.\n",
    "\n",
    "124 나라에는 자연수만 존재합니다.\n",
    "\n",
    "124 나라에는 모든 수를 표현할 때 1, 2, 4만 사용합니다.\n",
    "\n",
    "예를 들어서 124 나라에서 사용하는 숫자는 다음과 같이 변환됩니다.\n",
    "\n",
    "|10진법|124 나라|10진법|124 나라|\n",
    "|---|---|---|---|\n",
    "|1\t|1|\t6|\t14|\n",
    "|2\t|2\t|7|\t21|\n",
    "|3\t|4\t|8|\t22|\n",
    "|4\t|11\t|9\t|24|\n",
    "|5|\t12\t|10|\t41|\n",
    "\n",
    "자연수 n이 매개변수로 주어질 때, n을 124 나라에서 사용하는 숫자로 바꾼 값을 return 하도록 solution 함수를 완성해 주세요.\n",
    "\n",
    "제한사항\n",
    "n은 500,000,000이하의 자연수 입니다.\n",
    "\n",
    "ref.: https://programmers.co.kr/learn/courses/30/lessons/49993"
   ]
  },
  {
   "cell_type": "code",
   "execution_count": null,
   "metadata": {},
   "outputs": [],
   "source": [
    "def solution(n):\n",
    "    answer = ''\n",
    "    return answer"
   ]
  },
  {
   "cell_type": "code",
   "execution_count": 142,
   "metadata": {},
   "outputs": [],
   "source": [
    "def solution(n):\n",
    "    answer = ''\n",
    "    \n",
    "    while n>0:\n",
    "        tmp1 = int((n-1)/3) # (n/3)으로 수식 전개 시 나누어 떨어지는 값들에 대해 연산이 안되는 문제 발생 > ((n-1)/3)으로 해결\n",
    "        tmp2 = n%3\n",
    "        \n",
    "        if tmp2==0:\n",
    "            answer = answer + \"4\"\n",
    "            \n",
    "        if tmp2==1:\n",
    "            answer = answer + \"1\"\n",
    "        if tmp2==2:\n",
    "            answer = answer + \"2\"\n",
    "        n = tmp1\n",
    "\n",
    "\n",
    "    \n",
    "    answer = answer[::-1]\n",
    "    return answer"
   ]
  },
  {
   "cell_type": "code",
   "execution_count": 143,
   "metadata": {},
   "outputs": [
    {
     "data": {
      "text/plain": [
       "'22'"
      ]
     },
     "execution_count": 143,
     "metadata": {},
     "output_type": "execute_result"
    }
   ],
   "source": [
    "solution(8)"
   ]
  },
  {
   "cell_type": "code",
   "execution_count": 144,
   "metadata": {},
   "outputs": [
    {
     "data": {
      "text/plain": [
       "'111'"
      ]
     },
     "execution_count": 144,
     "metadata": {},
     "output_type": "execute_result"
    }
   ],
   "source": [
    "solution(13)"
   ]
  }
 ],
 "metadata": {
  "kernelspec": {
   "display_name": "Python 3",
   "language": "python",
   "name": "python3"
  },
  "language_info": {
   "codemirror_mode": {
    "name": "ipython",
    "version": 3
   },
   "file_extension": ".py",
   "mimetype": "text/x-python",
   "name": "python",
   "nbconvert_exporter": "python",
   "pygments_lexer": "ipython3",
   "version": "3.7.1"
  }
 },
 "nbformat": 4,
 "nbformat_minor": 2
}
