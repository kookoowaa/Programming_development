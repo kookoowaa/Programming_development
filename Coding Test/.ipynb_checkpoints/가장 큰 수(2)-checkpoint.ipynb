{
 "cells": [
  {
   "cell_type": "markdown",
   "metadata": {},
   "source": [
    "**문제 설명(lv2)**\n",
    "\n",
    "0 또는 양의 정수가 주어졌을 때, 정수를 이어 붙여 만들 수 있는 가장 큰 수를 알아내 주세요.\n",
    "\n",
    "예를 들어, 주어진 정수가 [6, 10, 2]라면 [6102, 6210, 1062, 1026, 2610, 2106]를 만들 수 있고, 이중 가장 큰 수는 6210입니다.\n",
    "\n",
    "0 또는 양의 정수가 담긴 배열 numbers가 매개변수로 주어질 때, 순서를 재배치하여 만들 수 있는 가장 큰 수를 문자열로 바꾸어 return 하도록 solution 함수를 작성해주세요.\n",
    "___\n",
    "제한 사항\n",
    "\n",
    "numbers의 길이는 1 이상 100,000 이하입니다.\n",
    "\n",
    "numbers의 원소는 0 이상 1,000 이하입니다.\n",
    "\n",
    "정답이 너무 클 수 있으니 문자열로 바꾸어 return 합니다.\n",
    "\n",
    "ex) [3, 30, 34, 5, 9] = \"9534330\""
   ]
  },
  {
   "cell_type": "code",
   "execution_count": 20,
   "metadata": {},
   "outputs": [],
   "source": [
    "sample = [93, 40, 3, 130, 9, 919]"
   ]
  },
  {
   "cell_type": "code",
   "execution_count": 15,
   "metadata": {},
   "outputs": [
    {
     "data": {
      "text/plain": [
       "[9, 4, 3, 1, 9, 9]"
      ]
     },
     "execution_count": 15,
     "metadata": {},
     "output_type": "execute_result"
    }
   ],
   "source": [
    "tmp = [int(str(i)[0]) for i in sample]\n",
    "tmp"
   ]
  },
  {
   "cell_type": "markdown",
   "metadata": {},
   "source": [
    "- 앞자리 순서대로 비교하면서 큰 순서대로 합쳐나갈까 고민하였으나, 쉽지 않을것으로 판단\n",
    "- 여타 예제를 보니, `numbers`의 원소가 `0 <= numbers <= 1000`이라는 조건을 참조하여, 모든 숫자를 4자리수로 만든 이후 큰 수대로 병합"
   ]
  },
  {
   "cell_type": "code",
   "execution_count": 22,
   "metadata": {},
   "outputs": [],
   "source": [
    "def solution(numbers):\n",
    "    l = []\n",
    "    for number in numbers:\n",
    "        original = number\n",
    "        while number < 1000:\n",
    "            number *= 10\n",
    "        l.append([number, original])\n",
    "    l = sorted(l, key=lambda x : (-x[0], x[1]))\n",
    "    return str(int(\"\".join([str(number[1]) for number in l])))"
   ]
  },
  {
   "cell_type": "code",
   "execution_count": 23,
   "metadata": {},
   "outputs": [
    {
     "data": {
      "text/plain": [
       "'939199403130'"
      ]
     },
     "execution_count": 23,
     "metadata": {},
     "output_type": "execute_result"
    }
   ],
   "source": [
    "solution(sample)"
   ]
  },
  {
   "cell_type": "markdown",
   "metadata": {},
   "source": [
    "- 위와 같이 처리할 경우 예외가 생김 `[121, 12]` (12121 대신 12112 반환)\n",
    "- 해결 방법으로 위 수를 반복시킬 경우 가능"
   ]
  },
  {
   "cell_type": "code",
   "execution_count": 24,
   "metadata": {},
   "outputs": [],
   "source": [
    "def solution(numbers):\n",
    "    l = []\n",
    "    for number in numbers:\n",
    "        original = str(number)\n",
    "        number = list(str(number))\n",
    "        i = 0\n",
    "        while len(number) <= 4:\n",
    "            number.append(original[i])\n",
    "            i = (i + 1) % len(original)\n",
    "        number = int(\"\".join(number))\n",
    "        l.append([number, original])\n",
    "        \n",
    "    # ex1. [6, 10, 2]\n",
    "    # l = [[66666, '6'], [10101, '10'], [22222, '2']]\n",
    "\n",
    "    # ex2. [3, 30, 34, 5, 9]\n",
    "    # l = [[33333, '3'], [30303, '30'], [34343, '34'], [55555, '5'], [99999, '9']]\n",
    "    l= sorted(l, reverse=True)\n",
    "    return str(int(\"\".join([item[1] for item in l])))"
   ]
  },
  {
   "cell_type": "code",
   "execution_count": 25,
   "metadata": {},
   "outputs": [
    {
     "data": {
      "text/plain": [
       "'993919403130'"
      ]
     },
     "execution_count": 25,
     "metadata": {},
     "output_type": "execute_result"
    }
   ],
   "source": [
    "solution(sample)"
   ]
  },
  {
   "cell_type": "markdown",
   "metadata": {},
   "source": [
    "- 더욱 간단한 반법으로 `map`과 `(list)*3`을 활용해 파이썬처럼 작업"
   ]
  },
  {
   "cell_type": "code",
   "execution_count": 26,
   "metadata": {},
   "outputs": [],
   "source": [
    "def solution(numbers):\n",
    "    numbers = list(map(str, numbers))\n",
    "    numbers.sort(key=lambda x: x*3, reverse=True)\n",
    "    return str(int(''.join(numbers)))"
   ]
  },
  {
   "cell_type": "markdown",
   "metadata": {},
   "source": [
    "- 참조: https://dailyheumsi.tistory.com/102"
   ]
  }
 ],
 "metadata": {
  "kernelspec": {
   "display_name": "Python 3",
   "language": "python",
   "name": "python3"
  },
  "language_info": {
   "codemirror_mode": {
    "name": "ipython",
    "version": 3
   },
   "file_extension": ".py",
   "mimetype": "text/x-python",
   "name": "python",
   "nbconvert_exporter": "python",
   "pygments_lexer": "ipython3",
   "version": "3.7.1"
  }
 },
 "nbformat": 4,
 "nbformat_minor": 2
}
